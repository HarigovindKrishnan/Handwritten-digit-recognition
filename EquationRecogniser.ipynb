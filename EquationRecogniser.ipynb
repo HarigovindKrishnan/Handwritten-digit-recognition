{
  "cells": [
    {
      "cell_type": "markdown",
      "source": [
        "# DIGIT **RECOGNISER**\n"
      ],
      "metadata": {
        "id": "fEmavX_7iLHT"
      }
    },
    {
      "cell_type": "code",
      "execution_count": null,
      "metadata": {
        "id": "ZxhiNRdyq25X"
      },
      "outputs": [],
      "source": [
        "import tensorflow as tf\n",
        "from tensorflow.keras import datasets, layers, models"
      ]
    },
    {
      "cell_type": "code",
      "source": [
        "import numpy as np\n",
        "import os\n",
        "from os import listdir\n",
        "import cv2\n",
        "from cv2 import imshow\n",
        "from sklearn.utils import shuffle\n",
        "from sklearn.model_selection import train_test_split"
      ],
      "metadata": {
        "id": "3geCNEIjiHIJ"
      },
      "execution_count": null,
      "outputs": []
    },
    {
      "cell_type": "code",
      "source": [
        "from google.colab import drive\n",
        "drive.mount('/content/drive')"
      ],
      "metadata": {
        "colab": {
          "base_uri": "https://localhost:8080/"
        },
        "id": "HsdJHvVtjDry",
        "outputId": "b205d1bb-3a1f-4ca5-d929-b5e03f4426b3"
      },
      "execution_count": null,
      "outputs": [
        {
          "output_type": "stream",
          "name": "stdout",
          "text": [
            "Mounted at /content/drive\n"
          ]
        }
      ]
    },
    {
      "cell_type": "code",
      "source": [
        "def load_dataop(dir_list, image_size):\n",
        "    # load all images in a directory\n",
        "    X = []\n",
        "    y = []\n",
        "    image_width, image_height = image_size\n",
        "\n",
        "    for directory in dir_list:\n",
        "        for filename in listdir(directory):\n",
        "            file_path = os.path.join(directory, filename)\n",
        "            image = cv2.imread(file_path)\n",
        "            if image is None:\n",
        "                print(f\"Warning: {file_path} could not be read.\")\n",
        "                continue\n",
        "            image = cv2.cvtColor(image, cv2.COLOR_BGR2GRAY)\n",
        "            image = cv2.resize(image, dsize=(image_width, image_height), interpolation=cv2.INTER_CUBIC)\n",
        "            image = image /255.0\n",
        "            X.append(image)\n",
        "\n",
        "            if directory.endswith('1'):\n",
        "                y.append([1])\n",
        "            elif directory.endswith('2'):\n",
        "                y.append([2])\n",
        "            elif directory.endswith('3'):\n",
        "                y.append([3])\n",
        "            elif directory.endswith('4'):\n",
        "                y.append([4])\n",
        "            elif directory.endswith('5'):\n",
        "                y.append([5])\n",
        "            elif directory.endswith('6'):\n",
        "                y.append([6])\n",
        "            elif directory.endswith('7'):\n",
        "                y.append([7])\n",
        "            elif directory.endswith('8'):\n",
        "                y.append([8])\n",
        "            elif directory.endswith('9'):\n",
        "                y.append([9])\n",
        "\n",
        "\n",
        "\n",
        "    X = np.array(X)\n",
        "    y = np.array(y)\n",
        "\n",
        "    X, y = shuffle(X, y)\n",
        "\n",
        "    print(f'Number of examples is: {len(X)}')\n",
        "    print(f'X shape is: {X.shape}')\n",
        "    print(f'y shape is: {y.shape}')\n",
        "\n",
        "    return X, y"
      ],
      "metadata": {
        "id": "_fDbI4SDgsKm"
      },
      "execution_count": null,
      "outputs": []
    },
    {
      "cell_type": "code",
      "source": [
        "path_1 = '/content/drive/MyDrive/DIGITSDATASET/1'\n",
        "path_2 = '/content/drive/MyDrive/DIGITSDATASET/2'\n",
        "path_3 = '/content/drive/MyDrive/DIGITSDATASET/3'\n",
        "path_4 = '/content/drive/MyDrive/DIGITSDATASET/4'\n",
        "path_5 = '/content/drive/MyDrive/DIGITSDATASET/5'\n",
        "path_6 = '/content/drive/MyDrive/DIGITSDATASET/6'\n",
        "path_7 = '/content/drive/MyDrive/DIGITSDATASET/7'\n",
        "path_8 = '/content/drive/MyDrive/DIGITSDATASET/8'\n",
        "path_9 = '/content/drive/MyDrive/DIGITSDATASET/9'\n",
        "\n",
        "IMG_WIDTH, IMG_HEIGHT = (28, 28)\n",
        "\n",
        "total_images,total_targets= load_dataop([path_1, path_2, path_3,path_4,path_5,path_6,path_7,path_8,path_9], (IMG_WIDTH, IMG_HEIGHT))"
      ],
      "metadata": {
        "colab": {
          "base_uri": "https://localhost:8080/"
        },
        "id": "CQEZTE-ahh3c",
        "outputId": "f190b985-f200-4f94-eb08-86bffd124fdb"
      },
      "execution_count": null,
      "outputs": [
        {
          "output_type": "stream",
          "name": "stdout",
          "text": [
            "Number of examples is: 4684\n",
            "X shape is: (4684, 28, 28)\n",
            "y shape is: (4684, 1)\n"
          ]
        }
      ]
    },
    {
      "cell_type": "code",
      "execution_count": null,
      "metadata": {
        "colab": {
          "base_uri": "https://localhost:8080/"
        },
        "id": "hOdctf6dq8qh",
        "outputId": "1ac8d7b4-b2e5-4002-b8e9-c080f2ab5aad"
      },
      "outputs": [
        {
          "output_type": "stream",
          "name": "stdout",
          "text": [
            "Model: \"sequential_2\"\n",
            "_________________________________________________________________\n",
            " Layer (type)                Output Shape              Param #   \n",
            "=================================================================\n",
            " conv2d_6 (Conv2D)           (None, 26, 26, 32)        320       \n",
            "                                                                 \n",
            " max_pooling2d_4 (MaxPoolin  (None, 13, 13, 32)        0         \n",
            " g2D)                                                            \n",
            "                                                                 \n",
            " conv2d_7 (Conv2D)           (None, 11, 11, 64)        18496     \n",
            "                                                                 \n",
            " max_pooling2d_5 (MaxPoolin  (None, 5, 5, 64)          0         \n",
            " g2D)                                                            \n",
            "                                                                 \n",
            " conv2d_8 (Conv2D)           (None, 3, 3, 64)          36928     \n",
            "                                                                 \n",
            " flatten_2 (Flatten)         (None, 576)               0         \n",
            "                                                                 \n",
            " dense_4 (Dense)             (None, 64)                36928     \n",
            "                                                                 \n",
            " dense_5 (Dense)             (None, 10)                650       \n",
            "                                                                 \n",
            "=================================================================\n",
            "Total params: 93322 (364.54 KB)\n",
            "Trainable params: 93322 (364.54 KB)\n",
            "Non-trainable params: 0 (0.00 Byte)\n",
            "_________________________________________________________________\n"
          ]
        }
      ],
      "source": [
        "model = models.Sequential()\n",
        "\n",
        "# Convolutional layers\n",
        "model.add(layers.Conv2D(32, (3, 3), activation='relu', input_shape=(28, 28, 1)))\n",
        "model.add(layers.MaxPooling2D((2, 2)))\n",
        "model.add(layers.Conv2D(64, (3, 3), activation='relu'))\n",
        "model.add(layers.MaxPooling2D((2, 2)))\n",
        "model.add(layers.Conv2D(64, (3, 3), activation='relu'))\n",
        "\n",
        "# Fully connected layers\n",
        "model.add(layers.Flatten())\n",
        "model.add(layers.Dense(64, activation='relu'))\n",
        "model.add(layers.Dense(10, activation='softmax'))\n",
        "\n",
        "# Compile the model\n",
        "model.compile(optimizer='adam', loss='sparse_categorical_crossentropy', metrics=['accuracy'])\n",
        "model.summary()\n"
      ]
    },
    {
      "cell_type": "code",
      "source": [
        "train_images, val_test_images, train_labels, val_test_labels = train_test_split(total_images, total_targets, test_size=0.3)\n",
        "test_images, val_images, test_labels, val_labels = train_test_split(val_test_images, val_test_labels, test_size=0.5)"
      ],
      "metadata": {
        "id": "FI3XVNnAkNRm"
      },
      "execution_count": null,
      "outputs": []
    },
    {
      "cell_type": "code",
      "execution_count": null,
      "metadata": {
        "colab": {
          "base_uri": "https://localhost:8080/"
        },
        "id": "k8g0jIk6rKEh",
        "outputId": "2be3fb53-1874-44b0-9a45-5e3d43555e20"
      },
      "outputs": [
        {
          "output_type": "stream",
          "name": "stdout",
          "text": [
            "Epoch 1/10\n",
            "82/82 [==============================] - 3s 34ms/step - loss: 0.5635 - accuracy: 0.8192 - val_loss: 0.5965 - val_accuracy: 0.8125\n",
            "Epoch 2/10\n",
            "82/82 [==============================] - 4s 53ms/step - loss: 0.4575 - accuracy: 0.8551 - val_loss: 0.5331 - val_accuracy: 0.8262\n",
            "Epoch 3/10\n",
            "82/82 [==============================] - 3s 32ms/step - loss: 0.3858 - accuracy: 0.8738 - val_loss: 0.4489 - val_accuracy: 0.8521\n",
            "Epoch 4/10\n",
            "82/82 [==============================] - 2s 30ms/step - loss: 0.3210 - accuracy: 0.8982 - val_loss: 0.3900 - val_accuracy: 0.8674\n",
            "Epoch 5/10\n",
            "82/82 [==============================] - 2s 29ms/step - loss: 0.2794 - accuracy: 0.9111 - val_loss: 0.3665 - val_accuracy: 0.8674\n",
            "Epoch 6/10\n",
            "82/82 [==============================] - 2s 28ms/step - loss: 0.2425 - accuracy: 0.9199 - val_loss: 0.4104 - val_accuracy: 0.8567\n",
            "Epoch 7/10\n",
            "82/82 [==============================] - 4s 45ms/step - loss: 0.2154 - accuracy: 0.9279 - val_loss: 0.3053 - val_accuracy: 0.9009\n",
            "Epoch 8/10\n",
            "82/82 [==============================] - 4s 45ms/step - loss: 0.1723 - accuracy: 0.9413 - val_loss: 0.3043 - val_accuracy: 0.9055\n",
            "Epoch 9/10\n",
            "82/82 [==============================] - 3s 31ms/step - loss: 0.1476 - accuracy: 0.9565 - val_loss: 0.3109 - val_accuracy: 0.8963\n",
            "Epoch 10/10\n",
            "82/82 [==============================] - 3s 32ms/step - loss: 0.1443 - accuracy: 0.9489 - val_loss: 0.3070 - val_accuracy: 0.9101\n"
          ]
        }
      ],
      "source": [
        "# Train the model\n",
        "history = model.fit(train_images, train_labels, epochs=10, validation_split=0.2)\n"
      ]
    },
    {
      "cell_type": "markdown",
      "source": [
        "# **OPERATOR RECOGNISER**"
      ],
      "metadata": {
        "id": "LxnCPgLqi00Q"
      }
    },
    {
      "cell_type": "code",
      "source": [
        "def load_data(dir_list, image_size):\n",
        "    # load all images in a directory\n",
        "    X = []\n",
        "    y = []\n",
        "    image_width, image_height = image_size\n",
        "\n",
        "    for directory in dir_list:\n",
        "        for filename in listdir(directory):\n",
        "            file_path = os.path.join(directory, filename)\n",
        "            image = cv2.imread(file_path)\n",
        "            image = cv2.resize(image, dsize=(image_width, image_height), interpolation=cv2.INTER_CUBIC)\n",
        "            image = image /255.0\n",
        "            X.append(image)\n",
        "\n",
        "            if directory.endswith('div'):\n",
        "                y.append([0,0,0,1])\n",
        "            elif directory.endswith('mul'):\n",
        "                y.append([0,0,1,0])\n",
        "            elif directory.endswith('sub'):\n",
        "                y.append([0,1,0,0])\n",
        "            elif directory.endswith('add'):\n",
        "                y.append([1,0,0,0])\n",
        "\n",
        "    X = np.array(X)\n",
        "    y = np.array(y)\n",
        "\n",
        "    X, y = shuffle(X, y)\n",
        "\n",
        "    print(f'Number of examples is: {len(X)}')\n",
        "    print(f'X shape is: {X.shape}')\n",
        "    print(f'y shape is: {y.shape}')\n",
        "\n",
        "    return X, y"
      ],
      "metadata": {
        "id": "FP8CdohdjEDI"
      },
      "execution_count": null,
      "outputs": []
    },
    {
      "cell_type": "code",
      "source": [
        "path_add = '/content/drive/MyDrive/OPERATORDATASETFINAL/add'\n",
        "path_sub = '/content/drive/MyDrive/OPERATORDATASETFINAL/sub'\n",
        "path_mul = '/content/drive/MyDrive/OPERATORDATASETFINAL/mul'\n",
        "path_div = '/content/drive/MyDrive/OPERATORDATASETFINAL/div'\n",
        "\n",
        "IMG_WIDTH, IMG_HEIGHT = (28, 28)\n",
        "\n",
        "X, y = load_data([path_add, path_sub, path_mul,path_div], (IMG_WIDTH, IMG_HEIGHT))"
      ],
      "metadata": {
        "colab": {
          "base_uri": "https://localhost:8080/"
        },
        "id": "ZoXLznmGjlsE",
        "outputId": "8bbd899b-7825-46b1-a326-4d86747aa9bb"
      },
      "execution_count": null,
      "outputs": [
        {
          "output_type": "stream",
          "name": "stdout",
          "text": [
            "Number of examples is: 2309\n",
            "X shape is: (2309, 28, 28, 3)\n",
            "y shape is: (2309, 4)\n"
          ]
        }
      ]
    },
    {
      "cell_type": "code",
      "source": [
        "modelop = models.Sequential()\n",
        "\n",
        "modelop.add(layers.Conv2D(32, (3, 3), strides = (1, 1), activation='relu', padding='same', input_shape=(28, 28, 3)))\n",
        "modelop.add(layers.MaxPooling2D((4, 4)))\n",
        "\n",
        "modelop.add(layers.Flatten())\n",
        "modelop.add(layers.Dense(128, activation='relu'))\n",
        "modelop.add(layers.Dense(4, activation='softmax'))\n"
      ],
      "metadata": {
        "id": "AMs-zZi9jmWt"
      },
      "execution_count": null,
      "outputs": []
    },
    {
      "cell_type": "code",
      "source": [
        "modelop.compile(optimizer='adam', loss='categorical_crossentropy', metrics=['accuracy'])"
      ],
      "metadata": {
        "id": "tZ0zXcytjo-j"
      },
      "execution_count": null,
      "outputs": []
    },
    {
      "cell_type": "code",
      "source": [
        "X_train, X_test_val, y_train, y_test_val = train_test_split(X, y, test_size=0.3)\n",
        "X_test, X_val, y_test, y_val = train_test_split(X_test_val, y_test_val, test_size=0.5)"
      ],
      "metadata": {
        "id": "X9pzUhQDj2G2"
      },
      "execution_count": null,
      "outputs": []
    },
    {
      "cell_type": "code",
      "source": [
        "modelop.fit(X_train, y_train, epochs=10, batch_size=32,validation_data=(X_val, y_val))"
      ],
      "metadata": {
        "colab": {
          "base_uri": "https://localhost:8080/"
        },
        "id": "WasjeK7xkCGL",
        "outputId": "d0c13fb6-7ac6-429f-fe86-200f4e822863"
      },
      "execution_count": null,
      "outputs": [
        {
          "output_type": "stream",
          "name": "stdout",
          "text": [
            "Epoch 1/10\n",
            "51/51 [==============================] - 2s 24ms/step - loss: 0.8183 - accuracy: 0.7085 - val_loss: 0.4669 - val_accuracy: 0.8329\n",
            "Epoch 2/10\n",
            "51/51 [==============================] - 1s 20ms/step - loss: 0.3668 - accuracy: 0.8676 - val_loss: 0.3256 - val_accuracy: 0.8876\n",
            "Epoch 3/10\n",
            "51/51 [==============================] - 1s 20ms/step - loss: 0.2478 - accuracy: 0.9177 - val_loss: 0.2965 - val_accuracy: 0.9049\n",
            "Epoch 4/10\n",
            "51/51 [==============================] - 1s 18ms/step - loss: 0.1976 - accuracy: 0.9332 - val_loss: 0.2200 - val_accuracy: 0.9395\n",
            "Epoch 5/10\n",
            "51/51 [==============================] - 1s 20ms/step - loss: 0.1240 - accuracy: 0.9691 - val_loss: 0.1389 - val_accuracy: 0.9654\n",
            "Epoch 6/10\n",
            "51/51 [==============================] - 1s 18ms/step - loss: 0.1001 - accuracy: 0.9771 - val_loss: 0.1214 - val_accuracy: 0.9625\n",
            "Epoch 7/10\n",
            "51/51 [==============================] - 1s 19ms/step - loss: 0.0716 - accuracy: 0.9889 - val_loss: 0.1059 - val_accuracy: 0.9712\n",
            "Epoch 8/10\n",
            "51/51 [==============================] - 2s 31ms/step - loss: 0.0556 - accuracy: 0.9876 - val_loss: 0.1137 - val_accuracy: 0.9712\n",
            "Epoch 9/10\n",
            "51/51 [==============================] - 2s 32ms/step - loss: 0.0491 - accuracy: 0.9901 - val_loss: 0.1097 - val_accuracy: 0.9712\n",
            "Epoch 10/10\n",
            "51/51 [==============================] - 2s 33ms/step - loss: 0.0591 - accuracy: 0.9845 - val_loss: 0.1315 - val_accuracy: 0.9568\n"
          ]
        },
        {
          "output_type": "execute_result",
          "data": {
            "text/plain": [
              "<keras.src.callbacks.History at 0x7f6cf43c7bb0>"
            ]
          },
          "metadata": {},
          "execution_count": 53
        }
      ]
    },
    {
      "cell_type": "markdown",
      "source": [
        "# Operand & Operation"
      ],
      "metadata": {
        "id": "uYQmHfaQrUj1"
      }
    },
    {
      "cell_type": "code",
      "source": [
        "from keras.preprocessing import image\n",
        "import cv2\n",
        "from cv2 import imshow\n",
        "image_pathfin = 'PredictOperation.jpg'\n",
        "imagefin = cv2.imread(image_pathfin)\n",
        "\n",
        "height, width, _ = imagefin.shape\n",
        "\n",
        "grid=width//3\n",
        "grid1 = imagefin[:, 0:grid]\n",
        "grid2 = imagefin[:, grid:grid*2]\n",
        "grid3 = imagefin[:, grid*2:width]\n",
        "\n",
        "grid1"
      ],
      "metadata": {
        "id": "ECik0zvjraIw",
        "colab": {
          "base_uri": "https://localhost:8080/",
          "height": 365
        },
        "outputId": "9f3fd343-0fa1-4b5c-dad6-853603d7e3f2"
      },
      "execution_count": null,
      "outputs": [
        {
          "output_type": "execute_result",
          "data": {
            "text/plain": [
              "array([[[ 51,  45,  32],\n",
              "        [ 51,  45,  32],\n",
              "        [ 51,  45,  32],\n",
              "        ...,\n",
              "        [255, 255, 255],\n",
              "        [255, 255, 255],\n",
              "        [255, 255, 255]],\n",
              "\n",
              "       [[255, 253, 244],\n",
              "        [255, 253, 244],\n",
              "        [255, 253, 244],\n",
              "        ...,\n",
              "        [255, 255, 255],\n",
              "        [255, 255, 255],\n",
              "        [255, 255, 255]],\n",
              "\n",
              "       [[255, 255, 254],\n",
              "        [255, 255, 254],\n",
              "        [255, 255, 254],\n",
              "        ...,\n",
              "        [255, 255, 255],\n",
              "        [255, 255, 255],\n",
              "        [255, 255, 255]],\n",
              "\n",
              "       ...,\n",
              "\n",
              "       [[255, 255, 255],\n",
              "        [255, 255, 255],\n",
              "        [255, 255, 255],\n",
              "        ...,\n",
              "        [255, 255, 255],\n",
              "        [255, 255, 255],\n",
              "        [255, 255, 255]],\n",
              "\n",
              "       [[255, 255, 255],\n",
              "        [255, 255, 255],\n",
              "        [255, 255, 255],\n",
              "        ...,\n",
              "        [255, 255, 255],\n",
              "        [255, 255, 255],\n",
              "        [255, 255, 255]],\n",
              "\n",
              "       [[255, 255, 255],\n",
              "        [255, 255, 255],\n",
              "        [255, 255, 255],\n",
              "        ...,\n",
              "        [255, 255, 255],\n",
              "        [255, 255, 255],\n",
              "        [255, 255, 255]]], dtype=uint8)"
            ],
            "text/html": [
              "<style>\n",
              "      .ndarray_repr .ndarray_raw_data {\n",
              "        display: none;\n",
              "      }\n",
              "      .ndarray_repr.show_array .ndarray_raw_data {\n",
              "        display: block;\n",
              "      }\n",
              "      .ndarray_repr.show_array .ndarray_image_preview {\n",
              "        display: none;\n",
              "      }\n",
              "      </style>\n",
              "      <div id=\"id-54618dce-8646-43a9-a240-b28ece65764b\" class=\"ndarray_repr\"><pre>ndarray (324, 341, 3) <button style=\"padding: 0 2px;\">show data</button></pre><img src=\"data:image/png;base64,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\" class=\"ndarray_image_preview\" /><pre class=\"ndarray_raw_data\">array([[[ 51,  45,  32],\n",
              "        [ 51,  45,  32],\n",
              "        [ 51,  45,  32],\n",
              "        ...,\n",
              "        [255, 255, 255],\n",
              "        [255, 255, 255],\n",
              "        [255, 255, 255]],\n",
              "\n",
              "       [[255, 253, 244],\n",
              "        [255, 253, 244],\n",
              "        [255, 253, 244],\n",
              "        ...,\n",
              "        [255, 255, 255],\n",
              "        [255, 255, 255],\n",
              "        [255, 255, 255]],\n",
              "\n",
              "       [[255, 255, 254],\n",
              "        [255, 255, 254],\n",
              "        [255, 255, 254],\n",
              "        ...,\n",
              "        [255, 255, 255],\n",
              "        [255, 255, 255],\n",
              "        [255, 255, 255]],\n",
              "\n",
              "       ...,\n",
              "\n",
              "       [[255, 255, 255],\n",
              "        [255, 255, 255],\n",
              "        [255, 255, 255],\n",
              "        ...,\n",
              "        [255, 255, 255],\n",
              "        [255, 255, 255],\n",
              "        [255, 255, 255]],\n",
              "\n",
              "       [[255, 255, 255],\n",
              "        [255, 255, 255],\n",
              "        [255, 255, 255],\n",
              "        ...,\n",
              "        [255, 255, 255],\n",
              "        [255, 255, 255],\n",
              "        [255, 255, 255]],\n",
              "\n",
              "       [[255, 255, 255],\n",
              "        [255, 255, 255],\n",
              "        [255, 255, 255],\n",
              "        ...,\n",
              "        [255, 255, 255],\n",
              "        [255, 255, 255],\n",
              "        [255, 255, 255]]], dtype=uint8)</pre></div><script>\n",
              "      (() => {\n",
              "      const titles = ['show data', 'hide data'];\n",
              "      let index = 0\n",
              "      document.querySelector('#id-54618dce-8646-43a9-a240-b28ece65764b button').onclick = (e) => {\n",
              "        document.querySelector('#id-54618dce-8646-43a9-a240-b28ece65764b').classList.toggle('show_array');\n",
              "        index = (++index) % 2;\n",
              "        document.querySelector('#id-54618dce-8646-43a9-a240-b28ece65764b button').textContent = titles[index];\n",
              "        e.preventDefault();\n",
              "        e.stopPropagation();\n",
              "      }\n",
              "      })();\n",
              "    </script>"
            ]
          },
          "metadata": {},
          "execution_count": 62
        }
      ]
    },
    {
      "cell_type": "markdown",
      "source": [
        "OPERAND1"
      ],
      "metadata": {
        "id": "HxQYYG7IsKPi"
      }
    },
    {
      "cell_type": "code",
      "source": [
        "test_img = cv2.resize(grid1, (28, 28), interpolation=cv2.INTER_AREA)\n",
        "test_img = cv2.cvtColor(test_img, cv2.COLOR_BGR2GRAY)\n",
        "test_img = np.expand_dims(test_img, axis=0)\n",
        "test_img = np.expand_dims(test_img, axis=-1)\n",
        "test_img = test_img / 255.0\n",
        "result = model.predict(test_img)\n",
        "predicted_class = np.argmax(result, axis=1)\n",
        "o1 = predicted_class\n",
        "print(result)\n",
        "print(o1)\n",
        "est_img_display = (test_img[0, :, :, 0] * 255).astype(np.uint8)\n",
        "est_img_display"
      ],
      "metadata": {
        "colab": {
          "base_uri": "https://localhost:8080/",
          "height": 139
        },
        "id": "nJ359lrgvUzx",
        "outputId": "384c2e02-4951-434f-f3bf-2fd7775f61a4"
      },
      "execution_count": null,
      "outputs": [
        {
          "output_type": "stream",
          "name": "stdout",
          "text": [
            "1/1 [==============================] - 0s 36ms/step\n",
            "[[1.2926802e-14 7.6032425e-09 9.0226393e-08 5.0152689e-08 2.2663686e-09\n",
            "  1.2375883e-08 4.6312863e-11 9.9998045e-01 9.6071098e-09 1.9399669e-05]]\n",
            "[7]\n"
          ]
        },
        {
          "output_type": "execute_result",
          "data": {
            "text/plain": [
              "array([[235, 235, 243, 255, 255, 255, 255, 255, 255, 255, 255, 255, 255,\n",
              "        255, 255, 255, 255, 255, 255, 255, 255, 255, 255, 255, 255, 255,\n",
              "        255, 255],\n",
              "       [255, 255, 255, 255, 255, 255, 255, 255, 255, 255, 255, 255, 255,\n",
              "        255, 255, 255, 255, 255, 255, 255, 255, 255, 255, 255, 255, 255,\n",
              "        255, 255],\n",
              "       [255, 255, 255, 255, 255, 255, 255, 255, 255, 255, 255, 255, 255,\n",
              "        255, 255, 255, 255, 255, 255, 255, 255, 255, 255, 255, 255, 255,\n",
              "        255, 255],\n",
              "       [255, 255, 255, 255, 255, 255, 255, 255, 255, 255, 255, 255, 255,\n",
              "        255, 255, 255, 255, 255, 255, 255, 255, 255, 255, 255, 255, 255,\n",
              "        255, 255],\n",
              "       [255, 255, 255, 255, 255, 255, 255, 255, 255, 255, 255, 255, 250,\n",
              "        228, 167, 116,  93,  73,  41,  39,  90, 246, 255, 255, 255, 255,\n",
              "        255, 255],\n",
              "       [255, 255, 255, 255, 255, 255, 242, 168, 120,  98,  69,  54,  10,\n",
              "          0,   0,   0,   0,   0,   0,   0,   0, 189, 255, 255, 255, 255,\n",
              "        255, 255],\n",
              "       [255, 255, 255, 255, 255, 255,  50,   0,   0,   0,   0,   0,   0,\n",
              "          0,   0,   0,   0,   0,   0,   0,   6, 221, 255, 255, 255, 255,\n",
              "        255, 255],\n",
              "       [255, 255, 255, 255, 255, 252,   9,   0,   0,   0,   0,   5,  30,\n",
              "         78, 114, 182, 207,  36,   0,   0, 126, 255, 255, 255, 255, 255,\n",
              "        255, 255],\n",
              "       [255, 255, 255, 255, 255, 255, 179, 120, 186, 212, 242, 249, 255,\n",
              "        255, 255, 255,  99,   0,   0,  71, 250, 255, 255, 255, 255, 255,\n",
              "        255, 255],\n",
              "       [255, 255, 255, 255, 255, 255, 255, 255, 255, 255, 255, 255, 255,\n",
              "        255, 255, 202,   4,   0,  22, 233, 255, 255, 255, 255, 255, 255,\n",
              "        255, 255],\n",
              "       [255, 255, 255, 255, 255, 255, 255, 255, 255, 255, 255, 255, 255,\n",
              "        255, 254,  64,   0,   0, 159, 255, 255, 255, 255, 255, 255, 255,\n",
              "        255, 255],\n",
              "       [255, 255, 255, 255, 255, 255, 255, 255, 255, 255, 255, 255, 255,\n",
              "        255, 195,   0,   0,  52, 254, 255, 255, 255, 255, 255, 255, 255,\n",
              "        255, 255],\n",
              "       [255, 255, 255, 255, 255, 255, 255, 255, 255, 255, 255, 255, 255,\n",
              "        255,  74,   0,   0, 185, 255, 255, 255, 255, 255, 255, 255, 255,\n",
              "        255, 255],\n",
              "       [255, 255, 255, 255, 255, 255, 255, 255, 255, 255, 255, 255, 255,\n",
              "        219,   4,   0,  50, 255, 255, 255, 255, 255, 255, 255, 255, 255,\n",
              "        255, 255],\n",
              "       [255, 255, 255, 255, 255, 255, 255, 255, 255, 255, 255, 255, 255,\n",
              "        110,   0,   0, 159, 255, 255, 255, 255, 255, 255, 255, 255, 255,\n",
              "        255, 255],\n",
              "       [255, 255, 255, 255, 255, 255, 255, 255, 255, 255, 255, 255, 223,\n",
              "          7,   0,  21, 248, 255, 255, 255, 255, 255, 255, 255, 255, 255,\n",
              "        255, 255],\n",
              "       [255, 255, 255, 255, 255, 255, 255, 255, 255, 255, 255, 255, 130,\n",
              "          0,   0, 133, 255, 255, 255, 255, 255, 255, 255, 255, 255, 255,\n",
              "        255, 255],\n",
              "       [255, 255, 255, 255, 255, 255, 255, 255, 255, 255, 255, 252,  36,\n",
              "          0,  10, 233, 255, 255, 255, 255, 255, 255, 255, 255, 255, 255,\n",
              "        255, 255],\n",
              "       [255, 255, 255, 255, 255, 255, 255, 255, 255, 255, 255, 178,   0,\n",
              "          0,  86, 255, 255, 255, 255, 255, 255, 255, 255, 255, 255, 255,\n",
              "        255, 255],\n",
              "       [255, 255, 255, 255, 255, 255, 255, 255, 255, 255, 255,  84,   0,\n",
              "          1, 200, 255, 255, 255, 255, 255, 255, 255, 255, 255, 255, 255,\n",
              "        255, 255],\n",
              "       [255, 255, 255, 255, 255, 255, 255, 255, 255, 255, 255,  43,   0,\n",
              "         36, 255, 255, 255, 255, 255, 255, 255, 255, 255, 255, 255, 255,\n",
              "        255, 255],\n",
              "       [255, 255, 255, 255, 255, 255, 255, 255, 255, 255, 255,  62,   0,\n",
              "         58, 255, 255, 255, 255, 255, 255, 255, 255, 255, 255, 255, 255,\n",
              "        255, 255],\n",
              "       [255, 255, 255, 255, 255, 255, 255, 255, 255, 255, 255, 201,  94,\n",
              "        194, 255, 255, 255, 255, 255, 255, 255, 255, 255, 255, 255, 255,\n",
              "        255, 255],\n",
              "       [255, 255, 255, 255, 255, 255, 255, 255, 255, 255, 255, 255, 255,\n",
              "        255, 255, 255, 255, 255, 255, 255, 255, 255, 255, 255, 255, 255,\n",
              "        255, 255],\n",
              "       [255, 255, 255, 255, 255, 255, 255, 255, 255, 255, 255, 255, 255,\n",
              "        255, 255, 255, 255, 255, 255, 255, 255, 255, 255, 255, 255, 255,\n",
              "        255, 255],\n",
              "       [255, 255, 255, 255, 255, 255, 255, 255, 255, 255, 255, 255, 255,\n",
              "        255, 255, 255, 255, 255, 255, 255, 255, 255, 255, 255, 255, 255,\n",
              "        255, 255],\n",
              "       [255, 255, 255, 255, 255, 255, 255, 255, 255, 255, 255, 255, 255,\n",
              "        255, 255, 255, 255, 255, 255, 255, 255, 255, 255, 255, 255, 255,\n",
              "        255, 255],\n",
              "       [255, 255, 255, 255, 255, 255, 255, 255, 255, 255, 255, 255, 255,\n",
              "        255, 255, 255, 255, 255, 255, 255, 255, 255, 255, 255, 255, 255,\n",
              "        255, 255]], dtype=uint8)"
            ],
            "text/html": [
              "<style>\n",
              "      .ndarray_repr .ndarray_raw_data {\n",
              "        display: none;\n",
              "      }\n",
              "      .ndarray_repr.show_array .ndarray_raw_data {\n",
              "        display: block;\n",
              "      }\n",
              "      .ndarray_repr.show_array .ndarray_image_preview {\n",
              "        display: none;\n",
              "      }\n",
              "      </style>\n",
              "      <div id=\"id-e2933f11-6778-4ed8-a0aa-6b12f9998813\" class=\"ndarray_repr\"><pre>ndarray (28, 28) <button style=\"padding: 0 2px;\">show data</button></pre><img src=\"data:image/png;base64,iVBORw0KGgoAAAANSUhEUgAAABwAAAAcCAAAAABXZoBIAAAA6ElEQVR4nGN8zcDBw4ADMP7HJcPAwMCERw6/JAsy5/erw2dfvnnwz3gOJ7Kdn7ddePX445VvUFV7nSD0////////b4RiHNtdiCjE2L/XGRgYGFglDVRcJEPvMFQoMSDr3Fyx68qnn/////+fzMDg/gsi+B8qCQenWBjEXv7HLvnPgYFh/n8ckocZGEz+4ZL0YmDY+R+H5G0WBiMkLmrwTf7DkIvMR9Z4n51B9AcunYt/MhSw49D5R4WB6yWySciSmxgYwv7jkgxhYDyBU1KbQQXV18gOEmYQQ0sKSApPxh1C1Umj1Ee+JADGjlUhMkrl6QAAAABJRU5ErkJggg==\" class=\"ndarray_image_preview\" /><pre class=\"ndarray_raw_data\">array([[235, 235, 243, 255, 255, 255, 255, 255, 255, 255, 255, 255, 255,\n",
              "        255, 255, 255, 255, 255, 255, 255, 255, 255, 255, 255, 255, 255,\n",
              "        255, 255],\n",
              "       [255, 255, 255, 255, 255, 255, 255, 255, 255, 255, 255, 255, 255,\n",
              "        255, 255, 255, 255, 255, 255, 255, 255, 255, 255, 255, 255, 255,\n",
              "        255, 255],\n",
              "       [255, 255, 255, 255, 255, 255, 255, 255, 255, 255, 255, 255, 255,\n",
              "        255, 255, 255, 255, 255, 255, 255, 255, 255, 255, 255, 255, 255,\n",
              "        255, 255],\n",
              "       [255, 255, 255, 255, 255, 255, 255, 255, 255, 255, 255, 255, 255,\n",
              "        255, 255, 255, 255, 255, 255, 255, 255, 255, 255, 255, 255, 255,\n",
              "        255, 255],\n",
              "       [255, 255, 255, 255, 255, 255, 255, 255, 255, 255, 255, 255, 250,\n",
              "        228, 167, 116,  93,  73,  41,  39,  90, 246, 255, 255, 255, 255,\n",
              "        255, 255],\n",
              "       [255, 255, 255, 255, 255, 255, 242, 168, 120,  98,  69,  54,  10,\n",
              "          0,   0,   0,   0,   0,   0,   0,   0, 189, 255, 255, 255, 255,\n",
              "        255, 255],\n",
              "       [255, 255, 255, 255, 255, 255,  50,   0,   0,   0,   0,   0,   0,\n",
              "          0,   0,   0,   0,   0,   0,   0,   6, 221, 255, 255, 255, 255,\n",
              "        255, 255],\n",
              "       [255, 255, 255, 255, 255, 252,   9,   0,   0,   0,   0,   5,  30,\n",
              "         78, 114, 182, 207,  36,   0,   0, 126, 255, 255, 255, 255, 255,\n",
              "        255, 255],\n",
              "       [255, 255, 255, 255, 255, 255, 179, 120, 186, 212, 242, 249, 255,\n",
              "        255, 255, 255,  99,   0,   0,  71, 250, 255, 255, 255, 255, 255,\n",
              "        255, 255],\n",
              "       [255, 255, 255, 255, 255, 255, 255, 255, 255, 255, 255, 255, 255,\n",
              "        255, 255, 202,   4,   0,  22, 233, 255, 255, 255, 255, 255, 255,\n",
              "        255, 255],\n",
              "       [255, 255, 255, 255, 255, 255, 255, 255, 255, 255, 255, 255, 255,\n",
              "        255, 254,  64,   0,   0, 159, 255, 255, 255, 255, 255, 255, 255,\n",
              "        255, 255],\n",
              "       [255, 255, 255, 255, 255, 255, 255, 255, 255, 255, 255, 255, 255,\n",
              "        255, 195,   0,   0,  52, 254, 255, 255, 255, 255, 255, 255, 255,\n",
              "        255, 255],\n",
              "       [255, 255, 255, 255, 255, 255, 255, 255, 255, 255, 255, 255, 255,\n",
              "        255,  74,   0,   0, 185, 255, 255, 255, 255, 255, 255, 255, 255,\n",
              "        255, 255],\n",
              "       [255, 255, 255, 255, 255, 255, 255, 255, 255, 255, 255, 255, 255,\n",
              "        219,   4,   0,  50, 255, 255, 255, 255, 255, 255, 255, 255, 255,\n",
              "        255, 255],\n",
              "       [255, 255, 255, 255, 255, 255, 255, 255, 255, 255, 255, 255, 255,\n",
              "        110,   0,   0, 159, 255, 255, 255, 255, 255, 255, 255, 255, 255,\n",
              "        255, 255],\n",
              "       [255, 255, 255, 255, 255, 255, 255, 255, 255, 255, 255, 255, 223,\n",
              "          7,   0,  21, 248, 255, 255, 255, 255, 255, 255, 255, 255, 255,\n",
              "        255, 255],\n",
              "       [255, 255, 255, 255, 255, 255, 255, 255, 255, 255, 255, 255, 130,\n",
              "          0,   0, 133, 255, 255, 255, 255, 255, 255, 255, 255, 255, 255,\n",
              "        255, 255],\n",
              "       [255, 255, 255, 255, 255, 255, 255, 255, 255, 255, 255, 252,  36,\n",
              "          0,  10, 233, 255, 255, 255, 255, 255, 255, 255, 255, 255, 255,\n",
              "        255, 255],\n",
              "       [255, 255, 255, 255, 255, 255, 255, 255, 255, 255, 255, 178,   0,\n",
              "          0,  86, 255, 255, 255, 255, 255, 255, 255, 255, 255, 255, 255,\n",
              "        255, 255],\n",
              "       [255, 255, 255, 255, 255, 255, 255, 255, 255, 255, 255,  84,   0,\n",
              "          1, 200, 255, 255, 255, 255, 255, 255, 255, 255, 255, 255, 255,\n",
              "        255, 255],\n",
              "       [255, 255, 255, 255, 255, 255, 255, 255, 255, 255, 255,  43,   0,\n",
              "         36, 255, 255, 255, 255, 255, 255, 255, 255, 255, 255, 255, 255,\n",
              "        255, 255],\n",
              "       [255, 255, 255, 255, 255, 255, 255, 255, 255, 255, 255,  62,   0,\n",
              "         58, 255, 255, 255, 255, 255, 255, 255, 255, 255, 255, 255, 255,\n",
              "        255, 255],\n",
              "       [255, 255, 255, 255, 255, 255, 255, 255, 255, 255, 255, 201,  94,\n",
              "        194, 255, 255, 255, 255, 255, 255, 255, 255, 255, 255, 255, 255,\n",
              "        255, 255],\n",
              "       [255, 255, 255, 255, 255, 255, 255, 255, 255, 255, 255, 255, 255,\n",
              "        255, 255, 255, 255, 255, 255, 255, 255, 255, 255, 255, 255, 255,\n",
              "        255, 255],\n",
              "       [255, 255, 255, 255, 255, 255, 255, 255, 255, 255, 255, 255, 255,\n",
              "        255, 255, 255, 255, 255, 255, 255, 255, 255, 255, 255, 255, 255,\n",
              "        255, 255],\n",
              "       [255, 255, 255, 255, 255, 255, 255, 255, 255, 255, 255, 255, 255,\n",
              "        255, 255, 255, 255, 255, 255, 255, 255, 255, 255, 255, 255, 255,\n",
              "        255, 255],\n",
              "       [255, 255, 255, 255, 255, 255, 255, 255, 255, 255, 255, 255, 255,\n",
              "        255, 255, 255, 255, 255, 255, 255, 255, 255, 255, 255, 255, 255,\n",
              "        255, 255],\n",
              "       [255, 255, 255, 255, 255, 255, 255, 255, 255, 255, 255, 255, 255,\n",
              "        255, 255, 255, 255, 255, 255, 255, 255, 255, 255, 255, 255, 255,\n",
              "        255, 255]], dtype=uint8)</pre></div><script>\n",
              "      (() => {\n",
              "      const titles = ['show data', 'hide data'];\n",
              "      let index = 0\n",
              "      document.querySelector('#id-e2933f11-6778-4ed8-a0aa-6b12f9998813 button').onclick = (e) => {\n",
              "        document.querySelector('#id-e2933f11-6778-4ed8-a0aa-6b12f9998813').classList.toggle('show_array');\n",
              "        index = (++index) % 2;\n",
              "        document.querySelector('#id-e2933f11-6778-4ed8-a0aa-6b12f9998813 button').textContent = titles[index];\n",
              "        e.preventDefault();\n",
              "        e.stopPropagation();\n",
              "      }\n",
              "      })();\n",
              "    </script>"
            ]
          },
          "metadata": {},
          "execution_count": 63
        }
      ]
    },
    {
      "cell_type": "markdown",
      "source": [
        "OPERAND2"
      ],
      "metadata": {
        "id": "mnotOWB2sNEW"
      }
    },
    {
      "cell_type": "code",
      "source": [
        "test_img = cv2.resize(grid3, (28, 28), interpolation=cv2.INTER_AREA)\n",
        "test_img = cv2.cvtColor(test_img, cv2.COLOR_BGR2GRAY)\n",
        "test_img = np.expand_dims(test_img, axis=0)\n",
        "test_img = np.expand_dims(test_img, axis=-1)\n",
        "test_img = test_img / 255.0\n",
        "result = model.predict(test_img)\n",
        "predicted_class = np.argmax(result, axis=1)\n",
        "o2 = predicted_class\n",
        "print(result)\n",
        "print(o2)\n",
        "est_img_display = (test_img[0, :, :, 0] * 255).astype(np.uint8)\n",
        "est_img_display"
      ],
      "metadata": {
        "colab": {
          "base_uri": "https://localhost:8080/",
          "height": 139
        },
        "id": "yQtI-rSQsPR5",
        "outputId": "0219aac6-f61d-4779-cb17-9fe5f6087c1d"
      },
      "execution_count": null,
      "outputs": [
        {
          "output_type": "stream",
          "name": "stdout",
          "text": [
            "1/1 [==============================] - 0s 21ms/step\n",
            "[[3.4048207e-16 6.5560285e-10 9.9961460e-01 6.6917171e-05 2.5222212e-08\n",
            "  4.9806777e-11 6.9350868e-08 3.1792230e-04 2.8451754e-09 3.9745458e-07]]\n",
            "[2]\n"
          ]
        },
        {
          "output_type": "execute_result",
          "data": {
            "text/plain": [
              "array([[255, 255, 255, 255, 255, 255, 255, 255, 255, 255, 255, 255, 255,\n",
              "        255, 255, 255, 255, 255, 255, 255, 255, 255, 255, 255, 255, 255,\n",
              "        255, 255],\n",
              "       [255, 255, 255, 255, 255, 255, 255, 255, 255, 255, 255, 255, 255,\n",
              "        255, 255, 255, 255, 255, 255, 255, 255, 255, 255, 255, 255, 255,\n",
              "        255, 255],\n",
              "       [255, 255, 255, 255, 255, 255, 255, 255, 227, 145, 104,  85,  85,\n",
              "         90, 139, 229, 255, 255, 255, 255, 255, 255, 255, 255, 255, 255,\n",
              "        255, 255],\n",
              "       [255, 255, 255, 255, 255, 255, 253, 112,   5,   0,   0,   0,   0,\n",
              "          0,   0,   8, 129, 250, 255, 255, 255, 255, 255, 255, 255, 255,\n",
              "        255, 255],\n",
              "       [255, 255, 255, 255, 255, 255, 160,   0,   0,   0,   0,   0,   0,\n",
              "          0,   0,   0,   0,  73, 247, 255, 255, 255, 255, 255, 255, 255,\n",
              "        255, 255],\n",
              "       [255, 255, 255, 255, 255, 255, 150,   0,   3, 118, 197, 227, 230,\n",
              "        210, 109,   6,   0,   0, 135, 255, 255, 255, 255, 255, 255, 255,\n",
              "        255, 255],\n",
              "       [255, 255, 255, 255, 255, 255, 249, 145, 184, 255, 255, 255, 255,\n",
              "        255, 255, 198,  12,   0,  47, 255, 255, 255, 255, 255, 255, 255,\n",
              "        255, 255],\n",
              "       [255, 255, 255, 255, 255, 255, 255, 255, 255, 255, 255, 255, 255,\n",
              "        255, 255, 255,  71,   0,  22, 255, 255, 255, 255, 255, 255, 255,\n",
              "        255, 255],\n",
              "       [255, 255, 255, 255, 255, 255, 255, 255, 255, 255, 255, 255, 255,\n",
              "        255, 255, 255,  71,   0,  22, 255, 255, 255, 255, 255, 255, 255,\n",
              "        255, 255],\n",
              "       [255, 255, 255, 255, 255, 255, 255, 255, 255, 255, 255, 255, 255,\n",
              "        255, 255, 231,   9,   0,  36, 255, 255, 255, 255, 255, 255, 255,\n",
              "        255, 255],\n",
              "       [255, 255, 255, 255, 255, 255, 255, 255, 255, 255, 255, 255, 255,\n",
              "        255, 254,  71,   0,   0, 121, 255, 255, 255, 255, 255, 255, 255,\n",
              "        255, 255],\n",
              "       [255, 255, 255, 255, 255, 255, 255, 255, 255, 255, 255, 255, 255,\n",
              "        255, 122,   0,   0,  35, 243, 255, 255, 255, 255, 255, 255, 255,\n",
              "        255, 255],\n",
              "       [255, 255, 255, 255, 255, 255, 255, 255, 255, 255, 255, 255, 255,\n",
              "        180,   1,   0,   8, 204, 255, 255, 255, 255, 255, 255, 255, 255,\n",
              "        255, 255],\n",
              "       [255, 255, 255, 255, 255, 255, 255, 255, 255, 255, 255, 255, 210,\n",
              "         17,   0,   0, 154, 255, 255, 255, 255, 255, 255, 255, 255, 255,\n",
              "        255, 255],\n",
              "       [255, 255, 255, 255, 255, 255, 255, 255, 255, 255, 255, 244,  46,\n",
              "          0,   0, 110, 255, 255, 255, 255, 255, 255, 255, 255, 255, 255,\n",
              "        255, 255],\n",
              "       [255, 255, 255, 255, 255, 255, 255, 255, 255, 255, 253,  74,   0,\n",
              "          0,  56, 249, 255, 255, 255, 255, 255, 255, 255, 255, 255, 255,\n",
              "        255, 255],\n",
              "       [255, 255, 255, 255, 255, 255, 255, 255, 255, 255,  97,   0,   0,\n",
              "         20, 222, 255, 255, 255, 255, 255, 255, 255, 255, 255, 255, 255,\n",
              "        255, 255],\n",
              "       [255, 255, 255, 255, 255, 255, 255, 255, 252, 119,   0,   0,  10,\n",
              "        202, 255, 255, 255, 255, 249, 239, 250, 255, 255, 255, 255, 255,\n",
              "        255, 255],\n",
              "       [255, 255, 255, 255, 255, 255, 255, 241,  73,   0,   0,   2, 136,\n",
              "        174, 145, 105,  78,  32,   2,   0,  17, 215, 255, 255, 255, 255,\n",
              "        255, 255],\n",
              "       [255, 255, 255, 255, 255, 255, 250,  63,   0,   0,   0,   0,   0,\n",
              "          0,   0,   0,   0,   0,   0,   0,   0, 167, 255, 255, 255, 255,\n",
              "        255, 255],\n",
              "       [255, 255, 255, 255, 255, 255, 159,   0,   0,   0,   0,   0,   0,\n",
              "          0,   0,   0,   0,  13,  48,  66, 107, 244, 255, 255, 255, 255,\n",
              "        255, 255],\n",
              "       [255, 255, 255, 255, 255, 255, 159,   0,   1,  48,  57,  72,  91,\n",
              "        124, 151, 194, 219, 254, 255, 255, 255, 255, 255, 255, 255, 255,\n",
              "        255, 255],\n",
              "       [255, 255, 255, 255, 255, 255, 253, 171, 188, 255, 255, 255, 255,\n",
              "        255, 255, 255, 255, 255, 255, 255, 255, 255, 255, 255, 255, 255,\n",
              "        255, 255],\n",
              "       [255, 255, 255, 255, 255, 255, 255, 255, 255, 255, 255, 255, 255,\n",
              "        255, 255, 255, 255, 255, 255, 255, 255, 255, 255, 255, 255, 255,\n",
              "        255, 255],\n",
              "       [255, 255, 255, 255, 255, 255, 255, 255, 255, 255, 255, 255, 255,\n",
              "        255, 255, 255, 255, 255, 255, 255, 255, 255, 255, 255, 255, 255,\n",
              "        255, 255],\n",
              "       [255, 255, 255, 255, 255, 255, 255, 255, 255, 255, 255, 255, 255,\n",
              "        255, 255, 255, 255, 255, 255, 255, 255, 255, 255, 255, 255, 255,\n",
              "        255, 255],\n",
              "       [255, 255, 255, 255, 255, 255, 255, 255, 255, 255, 255, 255, 255,\n",
              "        255, 255, 255, 255, 255, 255, 255, 255, 255, 255, 255, 255, 255,\n",
              "        255, 255],\n",
              "       [255, 255, 255, 255, 255, 255, 255, 255, 255, 255, 255, 255, 255,\n",
              "        255, 255, 255, 255, 255, 255, 255, 255, 255, 255, 255, 255, 255,\n",
              "        255, 255]], dtype=uint8)"
            ],
            "text/html": [
              "<style>\n",
              "      .ndarray_repr .ndarray_raw_data {\n",
              "        display: none;\n",
              "      }\n",
              "      .ndarray_repr.show_array .ndarray_raw_data {\n",
              "        display: block;\n",
              "      }\n",
              "      .ndarray_repr.show_array .ndarray_image_preview {\n",
              "        display: none;\n",
              "      }\n",
              "      </style>\n",
              "      <div id=\"id-d110dbbb-7649-41df-8400-5fc962b2606e\" class=\"ndarray_repr\"><pre>ndarray (28, 28) <button style=\"padding: 0 2px;\">show data</button></pre><img src=\"data:image/png;base64,iVBORw0KGgoAAAANSUhEUgAAABwAAAAcCAAAAABXZoBIAAAA+klEQVR4nGP8z4AbMOGRY2CBMZ6su/6WgdUwSgpZ9v////////9bwArhcjT++g8HUMkFCNWe3+GSUDu/MTCXHX387FIuG8P2CejG/py4A8I4xsOgj24sArgziKEbiwOgaXzOyaCCS+f/hO8Mobh0VjEwKH/G4aAtjAwcZzACAQIuCTIwzPqPXfKLHgND3n/skn+9GBgsfuKQTGRgELn3H6vkn3IGBq5T///////zPSxiGKEp4VPEdgamNrXHN55eevRP8JgGsj9/2aOExXKIKDQlLD0Il+BVFtL0RUsmjPqc/MKK0tqSyoxwdVA7/60TdMaMFEaykyaNJAE1aEXzw3pKawAAAABJRU5ErkJggg==\" class=\"ndarray_image_preview\" /><pre class=\"ndarray_raw_data\">array([[255, 255, 255, 255, 255, 255, 255, 255, 255, 255, 255, 255, 255,\n",
              "        255, 255, 255, 255, 255, 255, 255, 255, 255, 255, 255, 255, 255,\n",
              "        255, 255],\n",
              "       [255, 255, 255, 255, 255, 255, 255, 255, 255, 255, 255, 255, 255,\n",
              "        255, 255, 255, 255, 255, 255, 255, 255, 255, 255, 255, 255, 255,\n",
              "        255, 255],\n",
              "       [255, 255, 255, 255, 255, 255, 255, 255, 227, 145, 104,  85,  85,\n",
              "         90, 139, 229, 255, 255, 255, 255, 255, 255, 255, 255, 255, 255,\n",
              "        255, 255],\n",
              "       [255, 255, 255, 255, 255, 255, 253, 112,   5,   0,   0,   0,   0,\n",
              "          0,   0,   8, 129, 250, 255, 255, 255, 255, 255, 255, 255, 255,\n",
              "        255, 255],\n",
              "       [255, 255, 255, 255, 255, 255, 160,   0,   0,   0,   0,   0,   0,\n",
              "          0,   0,   0,   0,  73, 247, 255, 255, 255, 255, 255, 255, 255,\n",
              "        255, 255],\n",
              "       [255, 255, 255, 255, 255, 255, 150,   0,   3, 118, 197, 227, 230,\n",
              "        210, 109,   6,   0,   0, 135, 255, 255, 255, 255, 255, 255, 255,\n",
              "        255, 255],\n",
              "       [255, 255, 255, 255, 255, 255, 249, 145, 184, 255, 255, 255, 255,\n",
              "        255, 255, 198,  12,   0,  47, 255, 255, 255, 255, 255, 255, 255,\n",
              "        255, 255],\n",
              "       [255, 255, 255, 255, 255, 255, 255, 255, 255, 255, 255, 255, 255,\n",
              "        255, 255, 255,  71,   0,  22, 255, 255, 255, 255, 255, 255, 255,\n",
              "        255, 255],\n",
              "       [255, 255, 255, 255, 255, 255, 255, 255, 255, 255, 255, 255, 255,\n",
              "        255, 255, 255,  71,   0,  22, 255, 255, 255, 255, 255, 255, 255,\n",
              "        255, 255],\n",
              "       [255, 255, 255, 255, 255, 255, 255, 255, 255, 255, 255, 255, 255,\n",
              "        255, 255, 231,   9,   0,  36, 255, 255, 255, 255, 255, 255, 255,\n",
              "        255, 255],\n",
              "       [255, 255, 255, 255, 255, 255, 255, 255, 255, 255, 255, 255, 255,\n",
              "        255, 254,  71,   0,   0, 121, 255, 255, 255, 255, 255, 255, 255,\n",
              "        255, 255],\n",
              "       [255, 255, 255, 255, 255, 255, 255, 255, 255, 255, 255, 255, 255,\n",
              "        255, 122,   0,   0,  35, 243, 255, 255, 255, 255, 255, 255, 255,\n",
              "        255, 255],\n",
              "       [255, 255, 255, 255, 255, 255, 255, 255, 255, 255, 255, 255, 255,\n",
              "        180,   1,   0,   8, 204, 255, 255, 255, 255, 255, 255, 255, 255,\n",
              "        255, 255],\n",
              "       [255, 255, 255, 255, 255, 255, 255, 255, 255, 255, 255, 255, 210,\n",
              "         17,   0,   0, 154, 255, 255, 255, 255, 255, 255, 255, 255, 255,\n",
              "        255, 255],\n",
              "       [255, 255, 255, 255, 255, 255, 255, 255, 255, 255, 255, 244,  46,\n",
              "          0,   0, 110, 255, 255, 255, 255, 255, 255, 255, 255, 255, 255,\n",
              "        255, 255],\n",
              "       [255, 255, 255, 255, 255, 255, 255, 255, 255, 255, 253,  74,   0,\n",
              "          0,  56, 249, 255, 255, 255, 255, 255, 255, 255, 255, 255, 255,\n",
              "        255, 255],\n",
              "       [255, 255, 255, 255, 255, 255, 255, 255, 255, 255,  97,   0,   0,\n",
              "         20, 222, 255, 255, 255, 255, 255, 255, 255, 255, 255, 255, 255,\n",
              "        255, 255],\n",
              "       [255, 255, 255, 255, 255, 255, 255, 255, 252, 119,   0,   0,  10,\n",
              "        202, 255, 255, 255, 255, 249, 239, 250, 255, 255, 255, 255, 255,\n",
              "        255, 255],\n",
              "       [255, 255, 255, 255, 255, 255, 255, 241,  73,   0,   0,   2, 136,\n",
              "        174, 145, 105,  78,  32,   2,   0,  17, 215, 255, 255, 255, 255,\n",
              "        255, 255],\n",
              "       [255, 255, 255, 255, 255, 255, 250,  63,   0,   0,   0,   0,   0,\n",
              "          0,   0,   0,   0,   0,   0,   0,   0, 167, 255, 255, 255, 255,\n",
              "        255, 255],\n",
              "       [255, 255, 255, 255, 255, 255, 159,   0,   0,   0,   0,   0,   0,\n",
              "          0,   0,   0,   0,  13,  48,  66, 107, 244, 255, 255, 255, 255,\n",
              "        255, 255],\n",
              "       [255, 255, 255, 255, 255, 255, 159,   0,   1,  48,  57,  72,  91,\n",
              "        124, 151, 194, 219, 254, 255, 255, 255, 255, 255, 255, 255, 255,\n",
              "        255, 255],\n",
              "       [255, 255, 255, 255, 255, 255, 253, 171, 188, 255, 255, 255, 255,\n",
              "        255, 255, 255, 255, 255, 255, 255, 255, 255, 255, 255, 255, 255,\n",
              "        255, 255],\n",
              "       [255, 255, 255, 255, 255, 255, 255, 255, 255, 255, 255, 255, 255,\n",
              "        255, 255, 255, 255, 255, 255, 255, 255, 255, 255, 255, 255, 255,\n",
              "        255, 255],\n",
              "       [255, 255, 255, 255, 255, 255, 255, 255, 255, 255, 255, 255, 255,\n",
              "        255, 255, 255, 255, 255, 255, 255, 255, 255, 255, 255, 255, 255,\n",
              "        255, 255],\n",
              "       [255, 255, 255, 255, 255, 255, 255, 255, 255, 255, 255, 255, 255,\n",
              "        255, 255, 255, 255, 255, 255, 255, 255, 255, 255, 255, 255, 255,\n",
              "        255, 255],\n",
              "       [255, 255, 255, 255, 255, 255, 255, 255, 255, 255, 255, 255, 255,\n",
              "        255, 255, 255, 255, 255, 255, 255, 255, 255, 255, 255, 255, 255,\n",
              "        255, 255],\n",
              "       [255, 255, 255, 255, 255, 255, 255, 255, 255, 255, 255, 255, 255,\n",
              "        255, 255, 255, 255, 255, 255, 255, 255, 255, 255, 255, 255, 255,\n",
              "        255, 255]], dtype=uint8)</pre></div><script>\n",
              "      (() => {\n",
              "      const titles = ['show data', 'hide data'];\n",
              "      let index = 0\n",
              "      document.querySelector('#id-d110dbbb-7649-41df-8400-5fc962b2606e button').onclick = (e) => {\n",
              "        document.querySelector('#id-d110dbbb-7649-41df-8400-5fc962b2606e').classList.toggle('show_array');\n",
              "        index = (++index) % 2;\n",
              "        document.querySelector('#id-d110dbbb-7649-41df-8400-5fc962b2606e button').textContent = titles[index];\n",
              "        e.preventDefault();\n",
              "        e.stopPropagation();\n",
              "      }\n",
              "      })();\n",
              "    </script>"
            ]
          },
          "metadata": {},
          "execution_count": 64
        }
      ]
    },
    {
      "cell_type": "code",
      "source": [
        "print(o1+o2)"
      ],
      "metadata": {
        "colab": {
          "base_uri": "https://localhost:8080/"
        },
        "id": "Tb84TLissXdn",
        "outputId": "b923f58e-5947-4096-85c7-6b46171195f8"
      },
      "execution_count": null,
      "outputs": [
        {
          "output_type": "stream",
          "name": "stdout",
          "text": [
            "[14]\n"
          ]
        }
      ]
    },
    {
      "cell_type": "markdown",
      "source": [
        "OPERATOR"
      ],
      "metadata": {
        "id": "k6XaKNWgsl9c"
      }
    },
    {
      "cell_type": "code",
      "source": [
        "test_img = cv2.resize(grid2, (28, 28), interpolation=cv2.INTER_AREA)\n",
        "test_img = np.expand_dims(test_img, axis=0)\n",
        "\n",
        "test_img = test_img / 255.0\n",
        "result = modelop.predict(test_img)\n",
        "predicted_class = np.argmax(result, axis=1)\n",
        "o3 = predicted_class\n",
        "print(result)\n",
        "print(o3)\n",
        "est_img_display = (test_img[0, :, :, 0] * 255).astype(np.uint8)\n",
        "est_img_display"
      ],
      "metadata": {
        "colab": {
          "base_uri": "https://localhost:8080/",
          "height": 122
        },
        "id": "5U-RdKeayJ4h",
        "outputId": "8c9329cd-b7c6-4256-9a35-d5d03dcdac8b"
      },
      "execution_count": null,
      "outputs": [
        {
          "output_type": "stream",
          "name": "stdout",
          "text": [
            "1/1 [==============================] - 0s 23ms/step\n",
            "[[3.9121881e-04 9.9875367e-01 2.7230446e-05 8.2787540e-04]]\n",
            "[1]\n"
          ]
        },
        {
          "output_type": "execute_result",
          "data": {
            "text/plain": [
              "array([[255, 255, 255, 255, 255, 255, 255, 255, 255, 255, 255, 255, 255,\n",
              "        255, 255, 255, 255, 255, 255, 255, 255, 255, 255, 255, 255, 255,\n",
              "        255, 255],\n",
              "       [255, 255, 255, 255, 255, 255, 255, 255, 255, 255, 255, 255, 255,\n",
              "        255, 255, 255, 255, 255, 255, 255, 255, 255, 255, 255, 255, 255,\n",
              "        255, 255],\n",
              "       [255, 255, 255, 255, 255, 255, 255, 255, 255, 255, 255, 255, 255,\n",
              "        255, 255, 255, 255, 255, 255, 255, 255, 255, 255, 255, 255, 255,\n",
              "        255, 255],\n",
              "       [255, 255, 255, 255, 255, 255, 255, 255, 255, 255, 255, 255, 255,\n",
              "        255, 255, 255, 255, 255, 255, 255, 255, 255, 255, 255, 255, 255,\n",
              "        255, 255],\n",
              "       [255, 255, 255, 255, 255, 255, 255, 255, 255, 255, 255, 255, 255,\n",
              "        255, 255, 255, 255, 255, 255, 255, 255, 255, 255, 255, 255, 255,\n",
              "        255, 255],\n",
              "       [255, 255, 255, 255, 255, 255, 255, 255, 255, 255, 255, 255, 255,\n",
              "        255, 255, 255, 255, 255, 255, 255, 255, 255, 255, 255, 255, 255,\n",
              "        255, 255],\n",
              "       [255, 255, 255, 255, 255, 255, 255, 255, 255, 255, 255, 255, 255,\n",
              "        255, 255, 255, 255, 255, 255, 255, 255, 255, 255, 255, 255, 255,\n",
              "        255, 255],\n",
              "       [255, 255, 255, 255, 255, 255, 255, 255, 255, 255, 255, 255, 255,\n",
              "        255, 255, 255, 255, 255, 255, 255, 255, 255, 255, 255, 255, 255,\n",
              "        255, 255],\n",
              "       [255, 255, 255, 255, 255, 255, 255, 255, 255, 255, 255, 255, 255,\n",
              "        255, 255, 255, 255, 255, 255, 255, 255, 255, 255, 255, 255, 255,\n",
              "        255, 255],\n",
              "       [255, 255, 255, 255, 255, 255, 255, 255, 255, 255, 255, 255, 255,\n",
              "        255, 255, 255, 255, 255, 255, 255, 255, 255, 255, 255, 255, 255,\n",
              "        255, 255],\n",
              "       [255, 255, 255, 255, 255, 255, 255, 255, 255, 255, 255, 247, 227,\n",
              "        227, 227, 227, 227, 231, 255, 255, 255, 255, 255, 255, 255, 255,\n",
              "        255, 255],\n",
              "       [255, 255, 255, 255, 255, 255, 216, 110,  47,  38,  25,   7,   0,\n",
              "          0,   0,   0,   0,   0, 146, 255, 255, 255, 255, 255, 255, 255,\n",
              "        255, 255],\n",
              "       [255, 255, 255, 255, 255, 253,  24,   0,   0,   0,   0,   0,   0,\n",
              "          0,   0,   0,   0,   0,  97, 255, 255, 255, 255, 255, 255, 255,\n",
              "        255, 255],\n",
              "       [255, 255, 255, 255, 255, 253,  23,   0,   3,  22,  29,  44,  71,\n",
              "         88,  88,  88,  88,  93, 215, 255, 255, 255, 255, 255, 255, 255,\n",
              "        255, 255],\n",
              "       [255, 255, 255, 255, 255, 255, 219, 170, 230, 255, 255, 255, 255,\n",
              "        255, 255, 255, 255, 255, 255, 255, 255, 255, 255, 255, 255, 255,\n",
              "        255, 255],\n",
              "       [255, 255, 255, 255, 255, 255, 255, 255, 255, 255, 255, 255, 255,\n",
              "        255, 255, 255, 255, 255, 255, 255, 255, 255, 255, 255, 255, 255,\n",
              "        255, 255],\n",
              "       [255, 255, 255, 255, 255, 255, 255, 255, 255, 255, 255, 255, 255,\n",
              "        255, 255, 255, 255, 255, 255, 255, 255, 255, 255, 255, 255, 255,\n",
              "        255, 255],\n",
              "       [255, 255, 255, 255, 255, 255, 255, 255, 255, 255, 255, 255, 255,\n",
              "        255, 255, 255, 255, 255, 255, 255, 255, 255, 255, 255, 255, 255,\n",
              "        255, 255],\n",
              "       [255, 255, 255, 255, 255, 255, 255, 255, 255, 255, 255, 255, 255,\n",
              "        255, 255, 255, 255, 255, 255, 255, 255, 255, 255, 255, 255, 255,\n",
              "        255, 255],\n",
              "       [255, 255, 255, 255, 255, 255, 255, 255, 255, 255, 255, 255, 255,\n",
              "        255, 255, 255, 255, 255, 255, 255, 255, 255, 255, 255, 255, 255,\n",
              "        255, 255],\n",
              "       [255, 255, 255, 255, 255, 255, 255, 255, 255, 255, 255, 255, 255,\n",
              "        255, 255, 255, 255, 255, 255, 255, 255, 255, 255, 255, 255, 255,\n",
              "        255, 255],\n",
              "       [255, 255, 255, 255, 255, 255, 255, 255, 255, 255, 255, 255, 255,\n",
              "        255, 255, 255, 255, 255, 255, 255, 255, 255, 255, 255, 255, 255,\n",
              "        255, 255],\n",
              "       [255, 255, 255, 255, 255, 255, 255, 255, 255, 255, 255, 255, 255,\n",
              "        255, 255, 255, 255, 255, 255, 255, 255, 255, 255, 255, 255, 255,\n",
              "        255, 255],\n",
              "       [255, 255, 255, 255, 255, 255, 255, 255, 255, 255, 255, 255, 255,\n",
              "        255, 255, 255, 255, 255, 255, 255, 255, 255, 255, 255, 255, 255,\n",
              "        255, 255],\n",
              "       [255, 255, 255, 255, 255, 255, 255, 255, 255, 255, 255, 255, 255,\n",
              "        255, 255, 255, 255, 255, 255, 255, 255, 255, 255, 255, 255, 255,\n",
              "        255, 255],\n",
              "       [255, 255, 255, 255, 255, 255, 255, 255, 255, 255, 255, 255, 255,\n",
              "        255, 255, 255, 255, 255, 255, 255, 255, 255, 255, 255, 255, 255,\n",
              "        255, 255],\n",
              "       [255, 255, 255, 255, 255, 255, 255, 255, 255, 255, 255, 255, 255,\n",
              "        255, 255, 255, 255, 255, 255, 255, 255, 255, 255, 255, 255, 255,\n",
              "        255, 255],\n",
              "       [255, 255, 255, 255, 255, 255, 255, 255, 255, 255, 255, 255, 255,\n",
              "        255, 255, 255, 255, 255, 255, 255, 255, 255, 255, 255, 255, 255,\n",
              "        255, 255]], dtype=uint8)"
            ],
            "text/html": [
              "<style>\n",
              "      .ndarray_repr .ndarray_raw_data {\n",
              "        display: none;\n",
              "      }\n",
              "      .ndarray_repr.show_array .ndarray_raw_data {\n",
              "        display: block;\n",
              "      }\n",
              "      .ndarray_repr.show_array .ndarray_image_preview {\n",
              "        display: none;\n",
              "      }\n",
              "      </style>\n",
              "      <div id=\"id-50826a0e-1fd4-4008-bf82-5dca01cf8bd0\" class=\"ndarray_repr\"><pre>ndarray (28, 28) <button style=\"padding: 0 2px;\">show data</button></pre><img src=\"data:image/png;base64,iVBORw0KGgoAAAANSUhEUgAAABwAAAAcCAAAAABXZoBIAAAAXElEQVR4nGP8z4AbMOGRGzGSLEjsH28YGBgYWCQQIv////////+NPH01SXaIyKT/MACR/IukmiERLgk19j8DszA7v7QgAwMDaxlcGSMkVu6ct5HEdBDjaJQNjCQA0a8pqzOD11QAAAAASUVORK5CYII=\" class=\"ndarray_image_preview\" /><pre class=\"ndarray_raw_data\">array([[255, 255, 255, 255, 255, 255, 255, 255, 255, 255, 255, 255, 255,\n",
              "        255, 255, 255, 255, 255, 255, 255, 255, 255, 255, 255, 255, 255,\n",
              "        255, 255],\n",
              "       [255, 255, 255, 255, 255, 255, 255, 255, 255, 255, 255, 255, 255,\n",
              "        255, 255, 255, 255, 255, 255, 255, 255, 255, 255, 255, 255, 255,\n",
              "        255, 255],\n",
              "       [255, 255, 255, 255, 255, 255, 255, 255, 255, 255, 255, 255, 255,\n",
              "        255, 255, 255, 255, 255, 255, 255, 255, 255, 255, 255, 255, 255,\n",
              "        255, 255],\n",
              "       [255, 255, 255, 255, 255, 255, 255, 255, 255, 255, 255, 255, 255,\n",
              "        255, 255, 255, 255, 255, 255, 255, 255, 255, 255, 255, 255, 255,\n",
              "        255, 255],\n",
              "       [255, 255, 255, 255, 255, 255, 255, 255, 255, 255, 255, 255, 255,\n",
              "        255, 255, 255, 255, 255, 255, 255, 255, 255, 255, 255, 255, 255,\n",
              "        255, 255],\n",
              "       [255, 255, 255, 255, 255, 255, 255, 255, 255, 255, 255, 255, 255,\n",
              "        255, 255, 255, 255, 255, 255, 255, 255, 255, 255, 255, 255, 255,\n",
              "        255, 255],\n",
              "       [255, 255, 255, 255, 255, 255, 255, 255, 255, 255, 255, 255, 255,\n",
              "        255, 255, 255, 255, 255, 255, 255, 255, 255, 255, 255, 255, 255,\n",
              "        255, 255],\n",
              "       [255, 255, 255, 255, 255, 255, 255, 255, 255, 255, 255, 255, 255,\n",
              "        255, 255, 255, 255, 255, 255, 255, 255, 255, 255, 255, 255, 255,\n",
              "        255, 255],\n",
              "       [255, 255, 255, 255, 255, 255, 255, 255, 255, 255, 255, 255, 255,\n",
              "        255, 255, 255, 255, 255, 255, 255, 255, 255, 255, 255, 255, 255,\n",
              "        255, 255],\n",
              "       [255, 255, 255, 255, 255, 255, 255, 255, 255, 255, 255, 255, 255,\n",
              "        255, 255, 255, 255, 255, 255, 255, 255, 255, 255, 255, 255, 255,\n",
              "        255, 255],\n",
              "       [255, 255, 255, 255, 255, 255, 255, 255, 255, 255, 255, 247, 227,\n",
              "        227, 227, 227, 227, 231, 255, 255, 255, 255, 255, 255, 255, 255,\n",
              "        255, 255],\n",
              "       [255, 255, 255, 255, 255, 255, 216, 110,  47,  38,  25,   7,   0,\n",
              "          0,   0,   0,   0,   0, 146, 255, 255, 255, 255, 255, 255, 255,\n",
              "        255, 255],\n",
              "       [255, 255, 255, 255, 255, 253,  24,   0,   0,   0,   0,   0,   0,\n",
              "          0,   0,   0,   0,   0,  97, 255, 255, 255, 255, 255, 255, 255,\n",
              "        255, 255],\n",
              "       [255, 255, 255, 255, 255, 253,  23,   0,   3,  22,  29,  44,  71,\n",
              "         88,  88,  88,  88,  93, 215, 255, 255, 255, 255, 255, 255, 255,\n",
              "        255, 255],\n",
              "       [255, 255, 255, 255, 255, 255, 219, 170, 230, 255, 255, 255, 255,\n",
              "        255, 255, 255, 255, 255, 255, 255, 255, 255, 255, 255, 255, 255,\n",
              "        255, 255],\n",
              "       [255, 255, 255, 255, 255, 255, 255, 255, 255, 255, 255, 255, 255,\n",
              "        255, 255, 255, 255, 255, 255, 255, 255, 255, 255, 255, 255, 255,\n",
              "        255, 255],\n",
              "       [255, 255, 255, 255, 255, 255, 255, 255, 255, 255, 255, 255, 255,\n",
              "        255, 255, 255, 255, 255, 255, 255, 255, 255, 255, 255, 255, 255,\n",
              "        255, 255],\n",
              "       [255, 255, 255, 255, 255, 255, 255, 255, 255, 255, 255, 255, 255,\n",
              "        255, 255, 255, 255, 255, 255, 255, 255, 255, 255, 255, 255, 255,\n",
              "        255, 255],\n",
              "       [255, 255, 255, 255, 255, 255, 255, 255, 255, 255, 255, 255, 255,\n",
              "        255, 255, 255, 255, 255, 255, 255, 255, 255, 255, 255, 255, 255,\n",
              "        255, 255],\n",
              "       [255, 255, 255, 255, 255, 255, 255, 255, 255, 255, 255, 255, 255,\n",
              "        255, 255, 255, 255, 255, 255, 255, 255, 255, 255, 255, 255, 255,\n",
              "        255, 255],\n",
              "       [255, 255, 255, 255, 255, 255, 255, 255, 255, 255, 255, 255, 255,\n",
              "        255, 255, 255, 255, 255, 255, 255, 255, 255, 255, 255, 255, 255,\n",
              "        255, 255],\n",
              "       [255, 255, 255, 255, 255, 255, 255, 255, 255, 255, 255, 255, 255,\n",
              "        255, 255, 255, 255, 255, 255, 255, 255, 255, 255, 255, 255, 255,\n",
              "        255, 255],\n",
              "       [255, 255, 255, 255, 255, 255, 255, 255, 255, 255, 255, 255, 255,\n",
              "        255, 255, 255, 255, 255, 255, 255, 255, 255, 255, 255, 255, 255,\n",
              "        255, 255],\n",
              "       [255, 255, 255, 255, 255, 255, 255, 255, 255, 255, 255, 255, 255,\n",
              "        255, 255, 255, 255, 255, 255, 255, 255, 255, 255, 255, 255, 255,\n",
              "        255, 255],\n",
              "       [255, 255, 255, 255, 255, 255, 255, 255, 255, 255, 255, 255, 255,\n",
              "        255, 255, 255, 255, 255, 255, 255, 255, 255, 255, 255, 255, 255,\n",
              "        255, 255],\n",
              "       [255, 255, 255, 255, 255, 255, 255, 255, 255, 255, 255, 255, 255,\n",
              "        255, 255, 255, 255, 255, 255, 255, 255, 255, 255, 255, 255, 255,\n",
              "        255, 255],\n",
              "       [255, 255, 255, 255, 255, 255, 255, 255, 255, 255, 255, 255, 255,\n",
              "        255, 255, 255, 255, 255, 255, 255, 255, 255, 255, 255, 255, 255,\n",
              "        255, 255],\n",
              "       [255, 255, 255, 255, 255, 255, 255, 255, 255, 255, 255, 255, 255,\n",
              "        255, 255, 255, 255, 255, 255, 255, 255, 255, 255, 255, 255, 255,\n",
              "        255, 255]], dtype=uint8)</pre></div><script>\n",
              "      (() => {\n",
              "      const titles = ['show data', 'hide data'];\n",
              "      let index = 0\n",
              "      document.querySelector('#id-50826a0e-1fd4-4008-bf82-5dca01cf8bd0 button').onclick = (e) => {\n",
              "        document.querySelector('#id-50826a0e-1fd4-4008-bf82-5dca01cf8bd0').classList.toggle('show_array');\n",
              "        index = (++index) % 2;\n",
              "        document.querySelector('#id-50826a0e-1fd4-4008-bf82-5dca01cf8bd0 button').textContent = titles[index];\n",
              "        e.preventDefault();\n",
              "        e.stopPropagation();\n",
              "      }\n",
              "      })();\n",
              "    </script>"
            ]
          },
          "metadata": {},
          "execution_count": 65
        }
      ]
    },
    {
      "cell_type": "markdown",
      "source": [
        "# FINAL"
      ],
      "metadata": {
        "id": "gPZx9fnhtVJV"
      }
    },
    {
      "cell_type": "code",
      "source": [
        "if o3 == 0:\n",
        "    print(f\"{o1} + {o2} = {o1 + o2}\")\n",
        "elif o3 == 1:\n",
        "    print(f\"{o1} - {o2} = {o1 - o2}\")\n",
        "elif o3 == 2:\n",
        "    print(f\"{o1} * {o2} = {o1 * o2}\")\n",
        "elif o3 == 3:\n",
        "    print(f\"{o1} / {o2} = {o1 / o2}\")"
      ],
      "metadata": {
        "colab": {
          "base_uri": "https://localhost:8080/"
        },
        "id": "gFyiMAFVtUhZ",
        "outputId": "21404d9b-dd4c-4628-b471-cc1e2ff4c84e"
      },
      "execution_count": null,
      "outputs": [
        {
          "output_type": "stream",
          "name": "stdout",
          "text": [
            "[7] - [2] = [5]\n"
          ]
        }
      ]
    }
  ],
  "metadata": {
    "accelerator": "GPU",
    "colab": {
      "gpuType": "T4",
      "provenance": []
    },
    "kernelspec": {
      "display_name": "Python 3",
      "name": "python3"
    },
    "language_info": {
      "name": "python"
    }
  },
  "nbformat": 4,
  "nbformat_minor": 0
}